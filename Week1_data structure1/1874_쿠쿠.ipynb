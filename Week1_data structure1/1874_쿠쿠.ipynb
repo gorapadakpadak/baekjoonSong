{
 "cells": [
  {
   "cell_type": "markdown",
   "id": "ea196099",
   "metadata": {},
   "source": [
    "1. 변수 tmp(1 ~ n 오름차순), stack, arr(1 ~ n 입력받은 순서대로)\n",
    "2. stack의 top != arr[0] 이면, tmp[0]을 stack에 push, stack이 비어있고 tmp가 비어있지 않은 경우에도 tmp[0]을 stack에 push,\n",
    "   push 후 tmp[0] 제거\n",
    "3. stack의 top == arr[0] 이면, stack에서 pop\n",
    "4. stack의 top != arr[0] 이면, push해야하는데 push할 게 없으면 NO 하고 break\n",
    "   (== tmp 비어있고, stack의 top != arr[0]인 경우)\n",
    "5. stack과 top 둘 다 비어있는 경우 break\n",
    "\n",
    "+ NO인 경우 +, - print 하지 않고 NO만 출력해야 하므로 res 배열 만들어서 +,- 넣어놓고, NO를 출력하지 않는 경우 res를 순서대로 출력"
   ]
  },
  {
   "cell_type": "code",
   "execution_count": 12,
   "id": "b90a5066",
   "metadata": {},
   "outputs": [
    {
     "name": "stdout",
     "output_type": "stream",
     "text": [
      "5\n",
      "1\n",
      "2\n",
      "5\n",
      "3\n",
      "4\n",
      "[]\n",
      "[1]\n",
      "[]\n",
      "[2]\n",
      "[]\n",
      "[3]\n",
      "[3, 4]\n",
      "[3, 4, 5]\n",
      "[3, 4]\n",
      "NO\n"
     ]
    }
   ],
   "source": [
    "n = int(input())\n",
    "\n",
    "arr = []\n",
    "tmp = []\n",
    "st = []\n",
    "res = []\n",
    "for i in range(n):\n",
    "    arr.append(int(input()))\n",
    "    tmp.append(i+1)\n",
    "no=0\n",
    "while True:\n",
    "    #print(st)\n",
    "    st_len = len(st)\n",
    "    tmp_len = len(tmp)\n",
    "    \n",
    "    if st_len == 0 and tmp_len == 0:\n",
    "        break\n",
    "    elif st_len == 0:\n",
    "        st.append(tmp[0])\n",
    "        res.append(\"+\")\n",
    "        del tmp[0]\n",
    "    elif st[st_len-1] != arr[0] and tmp_len != 0:\n",
    "        st.append(tmp[0])\n",
    "        res.append(\"+\")\n",
    "        del tmp[0]\n",
    "    elif st[st_len-1] == arr[0]:\n",
    "        st.pop()\n",
    "        res.append(\"-\")\n",
    "        del arr[0]\n",
    "    elif tmp_len == 0:\n",
    "        print(\"NO\")\n",
    "        no=1\n",
    "        break\n",
    "if no == 0:\n",
    "    res_len = len(res)\n",
    "    for i in range(res_len):\n",
    "        print(res[i])\n",
    "\n"
   ]
  },
  {
   "cell_type": "code",
   "execution_count": 3,
   "id": "8ec85dc5",
   "metadata": {},
   "outputs": [],
   "source": [
    "tmp = [1,2,3,4,5]\n",
    "st.append(tmp[0])"
   ]
  },
  {
   "cell_type": "code",
   "execution_count": 4,
   "id": "287c334b",
   "metadata": {},
   "outputs": [],
   "source": [
    "del tmp[0]"
   ]
  },
  {
   "cell_type": "code",
   "execution_count": 5,
   "id": "7aef239a",
   "metadata": {},
   "outputs": [],
   "source": [
    "st.append(tmp[0])"
   ]
  },
  {
   "cell_type": "code",
   "execution_count": 6,
   "id": "b1a9ed89",
   "metadata": {},
   "outputs": [
    {
     "data": {
      "text/plain": [
       "[1, 2, 3, 5, 6, 7, 8, 1, 2]"
      ]
     },
     "execution_count": 6,
     "metadata": {},
     "output_type": "execute_result"
    }
   ],
   "source": [
    "st"
   ]
  },
  {
   "cell_type": "code",
   "execution_count": null,
   "id": "5bafc6b8",
   "metadata": {},
   "outputs": [],
   "source": []
  }
 ],
 "metadata": {
  "kernelspec": {
   "display_name": "Python 3 (ipykernel)",
   "language": "python",
   "name": "python3"
  },
  "language_info": {
   "codemirror_mode": {
    "name": "ipython",
    "version": 3
   },
   "file_extension": ".py",
   "mimetype": "text/x-python",
   "name": "python",
   "nbconvert_exporter": "python",
   "pygments_lexer": "ipython3",
   "version": "3.9.6"
  }
 },
 "nbformat": 4,
 "nbformat_minor": 5
}
