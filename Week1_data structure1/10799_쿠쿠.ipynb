{
 "cells": [
  {
   "cell_type": "code",
   "execution_count": 4,
   "id": "a1dff609",
   "metadata": {},
   "outputs": [
    {
     "name": "stdout",
     "output_type": "stream",
     "text": [
      "()(((()())(())()))(())\n",
      "17\n"
     ]
    }
   ],
   "source": [
    "inputs = input()\n",
    "st = list()\n",
    "cnt = 0\n",
    "length = len(inputs)\n",
    "\n",
    "for i in range(length):\n",
    "    if inputs[i] == \"(\" and i+1 < length and inputs[i+1] == \")\":\n",
    "        cnt += len(st)\n",
    "    elif inputs[i] == \"(\" and i+1 < length and inputs[i+1] != \")\":\n",
    "        cnt += 1\n",
    "        st.append('(')\n",
    "    elif inputs[i] == \")\" and inputs[i-1] != \"(\":\n",
    "        st.pop()\n",
    "print(cnt)"
   ]
  },
  {
   "cell_type": "code",
   "execution_count": null,
   "id": "5eb8438e",
   "metadata": {},
   "outputs": [],
   "source": []
  }
 ],
 "metadata": {
  "kernelspec": {
   "display_name": "Python 3 (ipykernel)",
   "language": "python",
   "name": "python3"
  },
  "language_info": {
   "codemirror_mode": {
    "name": "ipython",
    "version": 3
   },
   "file_extension": ".py",
   "mimetype": "text/x-python",
   "name": "python",
   "nbconvert_exporter": "python",
   "pygments_lexer": "ipython3",
   "version": "3.9.6"
  }
 },
 "nbformat": 4,
 "nbformat_minor": 5
}
