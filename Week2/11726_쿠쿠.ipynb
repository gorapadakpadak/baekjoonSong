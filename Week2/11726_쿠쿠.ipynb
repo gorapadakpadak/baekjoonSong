{
 "cells": [
  {
   "cell_type": "code",
   "execution_count": 4,
   "id": "09abe31e",
   "metadata": {},
   "outputs": [
    {
     "name": "stdout",
     "output_type": "stream",
     "text": [
      "9\n",
      "55\n"
     ]
    }
   ],
   "source": [
    "n = int(input())\n",
    "dp = [0]*1001\n",
    "dp[0] = 1\n",
    "dp[1] = 1\n",
    "\n",
    "for i in range(2,n+1):\n",
    "    dp[i] = dp[i-1] + dp[i-2]\n",
    "\n",
    "    \n",
    "print(dp[n]%10007)"
   ]
  },
  {
   "cell_type": "code",
   "execution_count": null,
   "id": "550b0912",
   "metadata": {},
   "outputs": [],
   "source": []
  }
 ],
 "metadata": {
  "kernelspec": {
   "display_name": "Python 3 (ipykernel)",
   "language": "python",
   "name": "python3"
  },
  "language_info": {
   "codemirror_mode": {
    "name": "ipython",
    "version": 3
   },
   "file_extension": ".py",
   "mimetype": "text/x-python",
   "name": "python",
   "nbconvert_exporter": "python",
   "pygments_lexer": "ipython3",
   "version": "3.9.6"
  }
 },
 "nbformat": 4,
 "nbformat_minor": 5
}
