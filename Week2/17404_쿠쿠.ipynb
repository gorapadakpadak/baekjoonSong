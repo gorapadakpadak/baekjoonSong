{
 "cells": [
  {
   "cell_type": "code",
   "execution_count": 1,
   "id": "aae61d3b",
   "metadata": {},
   "outputs": [
    {
     "name": "stdout",
     "output_type": "stream",
     "text": [
      "3\n",
      "1 100 100\n",
      "100 100 100\n",
      "1 100 100\n"
     ]
    }
   ],
   "source": [
    "\n",
    "n = int(input())\n",
    "\n",
    "prices = []\n",
    "\n",
    "for i in range(n):\n",
    "    prices.append(list(map(int,input().split())))"
   ]
  },
  {
   "cell_type": "code",
   "execution_count": 3,
   "id": "e8c202bb",
   "metadata": {},
   "outputs": [
    {
     "name": "stdout",
     "output_type": "stream",
     "text": [
      "201\n"
     ]
    }
   ],
   "source": [
    "import sys\n",
    "plen = len(prices)\n",
    "inf = sys.maxsize\n",
    "ans = inf\n",
    "res = [[0]*3 for _ in range(2)]\n",
    "for first in range(3):\n",
    "    res[0][0], res[0][1], res[0][2] = inf, inf, inf\n",
    "    res[0][first] = prices[0][first]\n",
    "    for i in range(1,plen):\n",
    "        res[1][0] = min(res[0][1], res[0][2]) + prices[i][0]\n",
    "        res[1][1] = min(res[0][0], res[0][2]) + prices[i][1]\n",
    "        res[1][2] = min(res[0][0], res[0][1]) + prices[i][2]\n",
    "        \n",
    "        res[0][0], res[0][1], res[0][2] = res[1][0], res[1][1], res[1][2]\n",
    "    ans = min(ans, res[0][(first+1)%3], res[0][(first+2)%3])\n",
    "print(ans)"
   ]
  },
  {
   "cell_type": "code",
   "execution_count": null,
   "id": "fb1afecf",
   "metadata": {},
   "outputs": [],
   "source": [
    "r = [[] for _ in range(n+1)]\n",
    "g = [[] for _ in range(n+1)]\n",
    "b = [[] for _ in range(n+1)]\n",
    "\n",
    "r[1] = [[0]]\n",
    "g[1] = [[1]]\n",
    "b[1] = [[2]]\n"
   ]
  },
  {
   "cell_type": "code",
   "execution_count": null,
   "id": "69482e45",
   "metadata": {},
   "outputs": [],
   "source": [
    "prices[1][0] + min(prices[0][1], prices[0][2])"
   ]
  },
  {
   "cell_type": "code",
   "execution_count": null,
   "id": "172252e8",
   "metadata": {},
   "outputs": [],
   "source": [
    "prices[1][0]"
   ]
  },
  {
   "cell_type": "code",
   "execution_count": null,
   "id": "6102c44f",
   "metadata": {},
   "outputs": [],
   "source": [
    "g"
   ]
  },
  {
   "cell_type": "code",
   "execution_count": null,
   "id": "93b3bae0",
   "metadata": {},
   "outputs": [],
   "source": [
    "b"
   ]
  },
  {
   "cell_type": "code",
   "execution_count": null,
   "id": "f9c93f1e",
   "metadata": {},
   "outputs": [],
   "source": [
    "prices"
   ]
  },
  {
   "cell_type": "code",
   "execution_count": null,
   "id": "475debb2",
   "metadata": {},
   "outputs": [],
   "source": []
  }
 ],
 "metadata": {
  "kernelspec": {
   "display_name": "Python 3 (ipykernel)",
   "language": "python",
   "name": "python3"
  },
  "language_info": {
   "codemirror_mode": {
    "name": "ipython",
    "version": 3
   },
   "file_extension": ".py",
   "mimetype": "text/x-python",
   "name": "python",
   "nbconvert_exporter": "python",
   "pygments_lexer": "ipython3",
   "version": "3.9.6"
  }
 },
 "nbformat": 4,
 "nbformat_minor": 5
}
