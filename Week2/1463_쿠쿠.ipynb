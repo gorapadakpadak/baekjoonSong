{
 "cells": [
  {
   "cell_type": "markdown",
   "id": "9c0f6063",
   "metadata": {},
   "source": [
    "1. 문제에서 주어짐\n",
    "##### arr[1] = 0\n",
    "##### arr[2] = 1\n",
    "##### arr[3] = 1\n",
    "##### .\n",
    "2. 아래 과정 반복\n",
    "##### (아래에서 1 더해주는 것은 -1 과정 횟수)\n",
    "##### arr[4] = min(arr[4-1]+1, arr[4/2]+1) \n",
    "##### arr[5] = arr[5-1]+1\n",
    "##### arr[6] = min(arr[6-1]+1, arr[6/2]+1, arr[6/3]+1)\n"
   ]
  },
  {
   "cell_type": "code",
   "execution_count": 13,
   "id": "dfff7a91",
   "metadata": {},
   "outputs": [
    {
     "name": "stdout",
     "output_type": "stream",
     "text": [
      "37\n",
      "5\n"
     ]
    }
   ],
   "source": [
    "x = int(input())\n",
    "arr = [ 0 for _ in range(1000001)]\n",
    "\n",
    "arr[1] = 0\n",
    "arr[2] = 1\n",
    "arr[3] = 1\n",
    "\n",
    "i = 4\n",
    "\n",
    "while i <= x:\n",
    "    x1 = arr[i-1] + 1\n",
    "    x2 = arr[int(i/2)] + 1\n",
    "    x3 = arr[int(i/3)] + 1\n",
    "    \n",
    "    if2 = i%2\n",
    "    if3 = i%3\n",
    "    if if3 ==0 and if2 == 0:\n",
    "        arr[i] = min(x1, x2, x3)\n",
    "    elif if3 == 0:\n",
    "        arr[i] = min(x1, x3)\n",
    "    elif if2 == 0:\n",
    "        arr[i] = min(x1, x2)\n",
    "    else:\n",
    "        arr[i] = x1\n",
    "    i += 1\n",
    "print(arr[x])"
   ]
  },
  {
   "cell_type": "code",
   "execution_count": 8,
   "id": "9fa7846a",
   "metadata": {},
   "outputs": [
    {
     "data": {
      "text/plain": [
       "1"
      ]
     },
     "execution_count": 8,
     "metadata": {},
     "output_type": "execute_result"
    }
   ],
   "source": [
    "(7%2)"
   ]
  },
  {
   "cell_type": "code",
   "execution_count": null,
   "id": "7e8b80a8",
   "metadata": {},
   "outputs": [],
   "source": []
  }
 ],
 "metadata": {
  "kernelspec": {
   "display_name": "Python 3 (ipykernel)",
   "language": "python",
   "name": "python3"
  },
  "language_info": {
   "codemirror_mode": {
    "name": "ipython",
    "version": 3
   },
   "file_extension": ".py",
   "mimetype": "text/x-python",
   "name": "python",
   "nbconvert_exporter": "python",
   "pygments_lexer": "ipython3",
   "version": "3.9.6"
  }
 },
 "nbformat": 4,
 "nbformat_minor": 5
}
