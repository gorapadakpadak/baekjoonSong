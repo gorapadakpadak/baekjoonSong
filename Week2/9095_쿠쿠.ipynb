{
 "cells": [
  {
   "cell_type": "code",
   "execution_count": 14,
   "id": "16c2ac74",
   "metadata": {},
   "outputs": [
    {
     "name": "stdout",
     "output_type": "stream",
     "text": [
      "3\n",
      "7\n",
      "10\n",
      "4\n",
      "44\n",
      "274\n",
      "7\n"
     ]
    }
   ],
   "source": [
    "t = int(input())\n",
    "\n",
    "dp = [0]*11\n",
    "\n",
    "dp[1] = 1\n",
    "dp[2] = 2\n",
    "dp[3] = 4\n",
    "\n",
    "for i in range(4,11):\n",
    "    for j in range(i-3,i):\n",
    "        dp[i] += dp[j]\n",
    "        \n",
    "\n",
    "            \n",
    "\n",
    "#print(dp)\n",
    "inputs = list()\n",
    "\n",
    "for i in range(t):\n",
    "    inputs.append(int(input()))\n",
    "\n",
    "for i in inputs:\n",
    "    print(dp[i])"
   ]
  },
  {
   "cell_type": "code",
   "execution_count": 10,
   "id": "67fc1910",
   "metadata": {},
   "outputs": [
    {
     "name": "stdout",
     "output_type": "stream",
     "text": [
      "[0, 1, 1, 3, 7, 13, 24, 44, 81, 149, 274, 0]\n"
     ]
    }
   ],
   "source": [
    "print(dp)"
   ]
  },
  {
   "cell_type": "code",
   "execution_count": null,
   "id": "a874fa22",
   "metadata": {},
   "outputs": [],
   "source": []
  }
 ],
 "metadata": {
  "kernelspec": {
   "display_name": "Python 3 (ipykernel)",
   "language": "python",
   "name": "python3"
  },
  "language_info": {
   "codemirror_mode": {
    "name": "ipython",
    "version": 3
   },
   "file_extension": ".py",
   "mimetype": "text/x-python",
   "name": "python",
   "nbconvert_exporter": "python",
   "pygments_lexer": "ipython3",
   "version": "3.9.6"
  }
 },
 "nbformat": 4,
 "nbformat_minor": 5
}
