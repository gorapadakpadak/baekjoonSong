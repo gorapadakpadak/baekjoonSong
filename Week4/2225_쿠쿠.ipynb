{
 "cells": [
  {
   "cell_type": "code",
   "execution_count": null,
   "id": "559a657f",
   "metadata": {},
   "outputs": [],
   "source": [
    "n, k = map(int, input().split())\n",
    "s = [[0] * 201 for i in range(201)]\n",
    "\n",
    "for i in range(201):\n",
    "    s[i][1] = 1\n",
    "\n",
    "for i in range(1, 201):\n",
    "    for j in range(201):\n",
    "        for l in range(j + 1):\n",
    "            s[j][i] += s[l][i - 1]\n",
    "\n",
    "print(s[n][k] % 1000000000)"
   ]
  }
 ],
 "metadata": {
  "kernelspec": {
   "display_name": "Python 3 (ipykernel)",
   "language": "python",
   "name": "python3"
  },
  "language_info": {
   "codemirror_mode": {
    "name": "ipython",
    "version": 3
   },
   "file_extension": ".py",
   "mimetype": "text/x-python",
   "name": "python",
   "nbconvert_exporter": "python",
   "pygments_lexer": "ipython3",
   "version": "3.9.6"
  }
 },
 "nbformat": 4,
 "nbformat_minor": 5
}
