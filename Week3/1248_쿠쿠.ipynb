{
 "cells": [
  {
   "cell_type": "markdown",
   "id": "2f34ca9d",
   "metadata": {},
   "source": [
    "#### 규칙\n",
    "#### 예제입력1 기준\n",
    "#### 첫번째 줄 : -+0+ , 두번째 줄 : +++, 세번째 줄 : --, 네번째 줄 : +\n",
    "#### 첫번째 줄 : A[0], A[0]+A[1], A[0]+A[1]+A[2], A[0]+A[1]+A[2]+A[3] 의 부호를 나타냄\n",
    "#### 두번째 줄 : A[1], A[1]+A[2], A[1]+A[2]+A[3] 의 부호를 나타냄\n",
    "#### 행렬[idx][idx]는 정답인 수와 부호가 일치한다. 행렬[idx][idx]가 '+' 인 경우 1 ~ 10을 탐색하고, '-'인 경우 -10 ~ -1 탐색"
   ]
  },
  {
   "cell_type": "code",
   "execution_count": null,
   "id": "5f28c5b7",
   "metadata": {},
   "outputs": [],
   "source": [
    "#부호와 합이 일치하는지 확인하는 함수\n",
    "def ck(idx): \n",
    "    hap = 0\n",
    "    for i in range(idx, -1, -1): \n",
    "        hap += result[i] # result 뒤에서부터 합 구하면서 S의 부호 확인\n",
    "        if hap == 0 and S[i][idx] != 0: \n",
    "            return False\n",
    "        elif hap < 0 and S[i][idx] >= 0:\n",
    "            return False\n",
    "        elif hap > 0 and S[i][idx] <= 0:\n",
    "            return False\n",
    "    return True\n",
    "\n",
    "def solve(idx):\n",
    "    if idx == N:\n",
    "        return True\n",
    "    if S[idx][idx] == 0: # S[idx][idx] == 0 이면 진짜 그냥 0인 것\n",
    "        result[idx] = 0\n",
    "        return solve(idx+1)\n",
    "    for i in range(1, 11):\n",
    "        result[idx] = S[idx][idx] * i # 1 ~ 10 또는 -10 ~ -1 넣어보기 \n",
    "        if ck(idx) and solve(idx+1):\n",
    "            return True\n",
    "    return False\n",
    "\n",
    "N = int(input())\n",
    "arr = list(input())\n",
    "S = [[0]*N for i in range(N)]\n",
    "\n",
    "for i in range(N):\n",
    "    for j in range(i, N):\n",
    "        temp = arr.pop(0)\n",
    "        if temp == '+':\n",
    "            S[i][j] = 1\n",
    "        elif temp == '-':\n",
    "            S[i][j] = -1\n",
    "\n",
    "\"\"\"\n",
    "S 초기화 상태\n",
    "-1 1 0 1\n",
    " 0 1 1 1\n",
    " 0 0 -1 -1\n",
    " 0 0 0 1\n",
    "\"\"\"\n",
    "\n",
    "result = [0] * N\n",
    "solve(0)\n",
    "print(' '.join(map(str, result)))"
   ]
  }
 ],
 "metadata": {
  "kernelspec": {
   "display_name": "Python 3 (ipykernel)",
   "language": "python",
   "name": "python3"
  },
  "language_info": {
   "codemirror_mode": {
    "name": "ipython",
    "version": 3
   },
   "file_extension": ".py",
   "mimetype": "text/x-python",
   "name": "python",
   "nbconvert_exporter": "python",
   "pygments_lexer": "ipython3",
   "version": "3.9.6"
  }
 },
 "nbformat": 4,
 "nbformat_minor": 5
}
