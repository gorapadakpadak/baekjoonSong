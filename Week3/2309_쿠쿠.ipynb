{
 "cells": [
  {
   "cell_type": "code",
   "execution_count": 20,
   "id": "3d3da5e5",
   "metadata": {},
   "outputs": [
    {
     "name": "stdout",
     "output_type": "stream",
     "text": [
      "20\n",
      "7\n",
      "23\n",
      "19\n",
      "10\n",
      "15\n",
      "25\n",
      "8\n",
      "13\n",
      "140\n",
      "7\n",
      "8\n",
      "10\n",
      "13\n",
      "19\n",
      "20\n",
      "23\n"
     ]
    }
   ],
   "source": [
    "h = []\n",
    "for i in range(9):\n",
    "    h.append(int(input()))\n",
    "total = sum(h)\n",
    "#print(total)\n",
    "br_flag = 0\n",
    "for i in range(9):\n",
    "    for j in range(i+1,9):\n",
    "        #print(i, j)\n",
    "        if total - h[i] - h[j] == 100:\n",
    "            del h[j]\n",
    "            del h[i]\n",
    "            #print(sorted(h))\n",
    "            br_flag=1\n",
    "            break\n",
    "    if br_flag==1:\n",
    "        break\n",
    "h.sort()\n",
    "for i in range(7):\n",
    "    print(h[i])\n"
   ]
  },
  {
   "cell_type": "code",
   "execution_count": 18,
   "id": "dbf23485",
   "metadata": {},
   "outputs": [
    {
     "data": {
      "text/plain": [
       "[7, 8, 10, 13, 19, 20, 23]"
      ]
     },
     "execution_count": 18,
     "metadata": {},
     "output_type": "execute_result"
    }
   ],
   "source": [
    "sorted(h)"
   ]
  },
  {
   "cell_type": "code",
   "execution_count": 15,
   "id": "2501645a",
   "metadata": {},
   "outputs": [],
   "source": [
    "h.sort()"
   ]
  },
  {
   "cell_type": "code",
   "execution_count": 16,
   "id": "b004586a",
   "metadata": {},
   "outputs": [
    {
     "data": {
      "text/plain": [
       "[7, 8, 10, 13, 19, 20, 23]"
      ]
     },
     "execution_count": 16,
     "metadata": {},
     "output_type": "execute_result"
    }
   ],
   "source": [
    "h"
   ]
  },
  {
   "cell_type": "code",
   "execution_count": null,
   "id": "0a584f31",
   "metadata": {},
   "outputs": [],
   "source": []
  }
 ],
 "metadata": {
  "kernelspec": {
   "display_name": "Python 3 (ipykernel)",
   "language": "python",
   "name": "python3"
  },
  "language_info": {
   "codemirror_mode": {
    "name": "ipython",
    "version": 3
   },
   "file_extension": ".py",
   "mimetype": "text/x-python",
   "name": "python",
   "nbconvert_exporter": "python",
   "pygments_lexer": "ipython3",
   "version": "3.9.6"
  }
 },
 "nbformat": 4,
 "nbformat_minor": 5
}
