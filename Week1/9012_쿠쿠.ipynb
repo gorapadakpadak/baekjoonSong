{
 "cells": [
  {
   "cell_type": "code",
   "execution_count": 14,
   "metadata": {},
   "outputs": [
    {
     "name": "stdout",
     "output_type": "stream",
     "text": [
      "6\n",
      "(())())\n",
      "(((()())()\n",
      "(()())((()))\n",
      "((()()(()))(((())))()\n",
      "()()()()(()()())()\n",
      "(()((())()(\n",
      "NO\n",
      "NO\n",
      "YES\n",
      "NO\n",
      "YES\n",
      "NO\n"
     ]
    }
   ],
   "source": [
    "n = int(input())\n",
    "\n",
    "arr=[]\n",
    "\n",
    "for i in range(n):\n",
    "    arr.append(input())\n",
    "    \n",
    "for i in range(n):\n",
    "    res = []\n",
    "    no=0\n",
    "    length = len(arr[i])\n",
    "    \n",
    "    #print(length)\n",
    "    for j in range(length):\n",
    "        if arr[i][j] == '(':\n",
    "            res.append(arr[i][j])\n",
    "        elif arr[i][j] == ')':\n",
    "            if len(res) != 0:\n",
    "                res.pop()\n",
    "            else:\n",
    "                no=1\n",
    "                continue\n",
    "    if len(res) != 0:\n",
    "        print(\"NO\")\n",
    "    elif no == 1:\n",
    "        print(\"NO\")\n",
    "    else:\n",
    "        print(\"YES\")"
   ]
  },
  {
   "cell_type": "code",
   "execution_count": 5,
   "metadata": {},
   "outputs": [
    {
     "data": {
      "text/plain": [
       "'('"
      ]
     },
     "execution_count": 5,
     "metadata": {},
     "output_type": "execute_result"
    }
   ],
   "source": [
    "arr[0][0]"
   ]
  },
  {
   "cell_type": "code",
   "execution_count": null,
   "metadata": {},
   "outputs": [],
   "source": []
  }
 ],
 "metadata": {
  "kernelspec": {
   "display_name": "Python 3",
   "language": "python",
   "name": "python3"
  },
  "language_info": {
   "codemirror_mode": {
    "name": "ipython",
    "version": 3
   },
   "file_extension": ".py",
   "mimetype": "text/x-python",
   "name": "python",
   "nbconvert_exporter": "python",
   "pygments_lexer": "ipython3",
   "version": "3.8.3"
  }
 },
 "nbformat": 4,
 "nbformat_minor": 4
}
